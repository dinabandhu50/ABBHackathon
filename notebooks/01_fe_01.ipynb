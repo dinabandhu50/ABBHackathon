{
 "cells": [
  {
   "cell_type": "code",
   "execution_count": 699,
   "id": "68b63c48",
   "metadata": {},
   "outputs": [],
   "source": [
    "import os\n",
    "\n",
    "import pandas as pd\n",
    "import numpy as np\n",
    "import matplotlib.pyplot as plt\n",
    "\n",
    "from config import settings"
   ]
  },
  {
   "cell_type": "markdown",
   "id": "2d27cc1e",
   "metadata": {},
   "source": [
    "## Data Loading"
   ]
  },
  {
   "cell_type": "code",
   "execution_count": 700,
   "id": "26670ef0",
   "metadata": {},
   "outputs": [],
   "source": [
    "df_train = pd.read_csv(os.path.join(settings.DATA_DIR, \"processed\", \"train_folds.csv\"))\n",
    "df_test = pd.read_csv(os.path.join(settings.DATA_DIR, \"processed\", \"test.csv\"))\n",
    "df_ss = pd.read_csv(\n",
    "    os.path.join(settings.DATA_DIR, \"processed\", \"sample_submission.csv\")\n",
    ")"
   ]
  },
  {
   "cell_type": "markdown",
   "id": "a0504cfa",
   "metadata": {},
   "source": [
    "## Data Analysis"
   ]
  },
  {
   "cell_type": "code",
   "execution_count": 701,
   "id": "d072be07",
   "metadata": {},
   "outputs": [
    {
     "data": {
      "text/html": [
       "<div>\n",
       "<style scoped>\n",
       "    .dataframe tbody tr th:only-of-type {\n",
       "        vertical-align: middle;\n",
       "    }\n",
       "\n",
       "    .dataframe tbody tr th {\n",
       "        vertical-align: top;\n",
       "    }\n",
       "\n",
       "    .dataframe thead th {\n",
       "        text-align: right;\n",
       "    }\n",
       "</style>\n",
       "<table border=\"1\" class=\"dataframe\">\n",
       "  <thead>\n",
       "    <tr style=\"text-align: right;\">\n",
       "      <th></th>\n",
       "      <th>Item_Identifier</th>\n",
       "      <th>Outlet_Identifier</th>\n",
       "      <th>Item_Outlet_Sales</th>\n",
       "    </tr>\n",
       "  </thead>\n",
       "  <tbody>\n",
       "    <tr>\n",
       "      <th>0</th>\n",
       "      <td>FDW58</td>\n",
       "      <td>OUT049</td>\n",
       "      <td>1000</td>\n",
       "    </tr>\n",
       "    <tr>\n",
       "      <th>1</th>\n",
       "      <td>FDW14</td>\n",
       "      <td>OUT017</td>\n",
       "      <td>1000</td>\n",
       "    </tr>\n",
       "    <tr>\n",
       "      <th>2</th>\n",
       "      <td>NCN55</td>\n",
       "      <td>OUT010</td>\n",
       "      <td>1000</td>\n",
       "    </tr>\n",
       "    <tr>\n",
       "      <th>3</th>\n",
       "      <td>FDQ58</td>\n",
       "      <td>OUT017</td>\n",
       "      <td>1000</td>\n",
       "    </tr>\n",
       "    <tr>\n",
       "      <th>4</th>\n",
       "      <td>FDY38</td>\n",
       "      <td>OUT027</td>\n",
       "      <td>1000</td>\n",
       "    </tr>\n",
       "  </tbody>\n",
       "</table>\n",
       "</div>"
      ],
      "text/plain": [
       "  Item_Identifier Outlet_Identifier  Item_Outlet_Sales\n",
       "0           FDW58            OUT049               1000\n",
       "1           FDW14            OUT017               1000\n",
       "2           NCN55            OUT010               1000\n",
       "3           FDQ58            OUT017               1000\n",
       "4           FDY38            OUT027               1000"
      ]
     },
     "execution_count": 701,
     "metadata": {},
     "output_type": "execute_result"
    }
   ],
   "source": [
    "df_ss.head()"
   ]
  },
  {
   "cell_type": "code",
   "execution_count": 702,
   "id": "b5eb306a",
   "metadata": {},
   "outputs": [
    {
     "data": {
      "text/html": [
       "<div>\n",
       "<style scoped>\n",
       "    .dataframe tbody tr th:only-of-type {\n",
       "        vertical-align: middle;\n",
       "    }\n",
       "\n",
       "    .dataframe tbody tr th {\n",
       "        vertical-align: top;\n",
       "    }\n",
       "\n",
       "    .dataframe thead th {\n",
       "        text-align: right;\n",
       "    }\n",
       "</style>\n",
       "<table border=\"1\" class=\"dataframe\">\n",
       "  <thead>\n",
       "    <tr style=\"text-align: right;\">\n",
       "      <th></th>\n",
       "      <th>Item_Identifier</th>\n",
       "      <th>Item_Weight</th>\n",
       "      <th>Item_Fat_Content</th>\n",
       "      <th>Item_Visibility</th>\n",
       "      <th>Item_Type</th>\n",
       "      <th>Item_MRP</th>\n",
       "      <th>Outlet_Identifier</th>\n",
       "      <th>Outlet_Establishment_Year</th>\n",
       "      <th>Outlet_Size</th>\n",
       "      <th>Outlet_Location_Type</th>\n",
       "      <th>Outlet_Type</th>\n",
       "      <th>Item_Outlet_Sales</th>\n",
       "      <th>kfold</th>\n",
       "    </tr>\n",
       "  </thead>\n",
       "  <tbody>\n",
       "    <tr>\n",
       "      <th>0</th>\n",
       "      <td>FDI28</td>\n",
       "      <td>14.300</td>\n",
       "      <td>Low Fat</td>\n",
       "      <td>0.026300</td>\n",
       "      <td>Frozen Foods</td>\n",
       "      <td>79.4302</td>\n",
       "      <td>OUT013</td>\n",
       "      <td>1987</td>\n",
       "      <td>High</td>\n",
       "      <td>Tier 3</td>\n",
       "      <td>Supermarket Type1</td>\n",
       "      <td>1743.0644</td>\n",
       "      <td>0</td>\n",
       "    </tr>\n",
       "    <tr>\n",
       "      <th>1</th>\n",
       "      <td>NCM17</td>\n",
       "      <td>7.930</td>\n",
       "      <td>Low Fat</td>\n",
       "      <td>0.071136</td>\n",
       "      <td>Health and Hygiene</td>\n",
       "      <td>42.7086</td>\n",
       "      <td>OUT046</td>\n",
       "      <td>1997</td>\n",
       "      <td>Small</td>\n",
       "      <td>Tier 1</td>\n",
       "      <td>Supermarket Type1</td>\n",
       "      <td>356.8688</td>\n",
       "      <td>0</td>\n",
       "    </tr>\n",
       "    <tr>\n",
       "      <th>2</th>\n",
       "      <td>FDC14</td>\n",
       "      <td>14.500</td>\n",
       "      <td>Regular</td>\n",
       "      <td>0.041313</td>\n",
       "      <td>Canned</td>\n",
       "      <td>42.0454</td>\n",
       "      <td>OUT049</td>\n",
       "      <td>1999</td>\n",
       "      <td>Medium</td>\n",
       "      <td>Tier 1</td>\n",
       "      <td>Supermarket Type1</td>\n",
       "      <td>377.5086</td>\n",
       "      <td>0</td>\n",
       "    </tr>\n",
       "    <tr>\n",
       "      <th>3</th>\n",
       "      <td>DRC36</td>\n",
       "      <td>NaN</td>\n",
       "      <td>Regular</td>\n",
       "      <td>0.044767</td>\n",
       "      <td>Soft Drinks</td>\n",
       "      <td>173.7054</td>\n",
       "      <td>OUT027</td>\n",
       "      <td>1985</td>\n",
       "      <td>Medium</td>\n",
       "      <td>Tier 3</td>\n",
       "      <td>Supermarket Type3</td>\n",
       "      <td>5778.4782</td>\n",
       "      <td>0</td>\n",
       "    </tr>\n",
       "    <tr>\n",
       "      <th>4</th>\n",
       "      <td>FDS27</td>\n",
       "      <td>10.195</td>\n",
       "      <td>Regular</td>\n",
       "      <td>0.012456</td>\n",
       "      <td>Meat</td>\n",
       "      <td>197.5110</td>\n",
       "      <td>OUT035</td>\n",
       "      <td>2004</td>\n",
       "      <td>Small</td>\n",
       "      <td>Tier 2</td>\n",
       "      <td>Supermarket Type1</td>\n",
       "      <td>2356.9320</td>\n",
       "      <td>0</td>\n",
       "    </tr>\n",
       "  </tbody>\n",
       "</table>\n",
       "</div>"
      ],
      "text/plain": [
       "  Item_Identifier  Item_Weight Item_Fat_Content  Item_Visibility  \\\n",
       "0           FDI28       14.300          Low Fat         0.026300   \n",
       "1           NCM17        7.930          Low Fat         0.071136   \n",
       "2           FDC14       14.500          Regular         0.041313   \n",
       "3           DRC36          NaN          Regular         0.044767   \n",
       "4           FDS27       10.195          Regular         0.012456   \n",
       "\n",
       "            Item_Type  Item_MRP Outlet_Identifier  Outlet_Establishment_Year  \\\n",
       "0        Frozen Foods   79.4302            OUT013                       1987   \n",
       "1  Health and Hygiene   42.7086            OUT046                       1997   \n",
       "2              Canned   42.0454            OUT049                       1999   \n",
       "3         Soft Drinks  173.7054            OUT027                       1985   \n",
       "4                Meat  197.5110            OUT035                       2004   \n",
       "\n",
       "  Outlet_Size Outlet_Location_Type        Outlet_Type  Item_Outlet_Sales  \\\n",
       "0        High               Tier 3  Supermarket Type1          1743.0644   \n",
       "1       Small               Tier 1  Supermarket Type1           356.8688   \n",
       "2      Medium               Tier 1  Supermarket Type1           377.5086   \n",
       "3      Medium               Tier 3  Supermarket Type3          5778.4782   \n",
       "4       Small               Tier 2  Supermarket Type1          2356.9320   \n",
       "\n",
       "   kfold  \n",
       "0      0  \n",
       "1      0  \n",
       "2      0  \n",
       "3      0  \n",
       "4      0  "
      ]
     },
     "execution_count": 702,
     "metadata": {},
     "output_type": "execute_result"
    }
   ],
   "source": [
    "df_train.head()"
   ]
  },
  {
   "cell_type": "code",
   "execution_count": 703,
   "id": "a650615a",
   "metadata": {},
   "outputs": [
    {
     "name": "stdout",
     "output_type": "stream",
     "text": [
      "<class 'pandas.core.frame.DataFrame'>\n",
      "RangeIndex: 8523 entries, 0 to 8522\n",
      "Data columns (total 13 columns):\n",
      " #   Column                     Non-Null Count  Dtype  \n",
      "---  ------                     --------------  -----  \n",
      " 0   Item_Identifier            8523 non-null   object \n",
      " 1   Item_Weight                7060 non-null   float64\n",
      " 2   Item_Fat_Content           8523 non-null   object \n",
      " 3   Item_Visibility            8523 non-null   float64\n",
      " 4   Item_Type                  8523 non-null   object \n",
      " 5   Item_MRP                   8523 non-null   float64\n",
      " 6   Outlet_Identifier          8523 non-null   object \n",
      " 7   Outlet_Establishment_Year  8523 non-null   int64  \n",
      " 8   Outlet_Size                6113 non-null   object \n",
      " 9   Outlet_Location_Type       8523 non-null   object \n",
      " 10  Outlet_Type                8523 non-null   object \n",
      " 11  Item_Outlet_Sales          8523 non-null   float64\n",
      " 12  kfold                      8523 non-null   int64  \n",
      "dtypes: float64(4), int64(2), object(7)\n",
      "memory usage: 865.7+ KB\n"
     ]
    }
   ],
   "source": [
    "df_train.info()"
   ]
  },
  {
   "cell_type": "code",
   "execution_count": 704,
   "id": "14cd240f",
   "metadata": {},
   "outputs": [],
   "source": [
    "idx_cols = [\"Item_Identifier\", \"Outlet_Identifier\"]\n",
    "target_col = \"Item_Outlet_Sales\"\n",
    "feature_cols = df_train.drop([\"kfold\", target_col] + idx_cols, axis=1).columns.tolist()"
   ]
  },
  {
   "cell_type": "markdown",
   "id": "a380132f",
   "metadata": {},
   "source": [
    "### Missing values "
   ]
  },
  {
   "cell_type": "code",
   "execution_count": 705,
   "id": "f0373c38",
   "metadata": {},
   "outputs": [
    {
     "data": {
      "text/html": [
       "<div>\n",
       "<style scoped>\n",
       "    .dataframe tbody tr th:only-of-type {\n",
       "        vertical-align: middle;\n",
       "    }\n",
       "\n",
       "    .dataframe tbody tr th {\n",
       "        vertical-align: top;\n",
       "    }\n",
       "\n",
       "    .dataframe thead th {\n",
       "        text-align: right;\n",
       "    }\n",
       "</style>\n",
       "<table border=\"1\" class=\"dataframe\">\n",
       "  <thead>\n",
       "    <tr style=\"text-align: right;\">\n",
       "      <th></th>\n",
       "      <th>Item_Identifier</th>\n",
       "      <th>Item_Weight</th>\n",
       "      <th>Item_Fat_Content</th>\n",
       "      <th>Item_Visibility</th>\n",
       "      <th>Item_Type</th>\n",
       "      <th>Item_MRP</th>\n",
       "      <th>Outlet_Identifier</th>\n",
       "      <th>Outlet_Establishment_Year</th>\n",
       "      <th>Outlet_Size</th>\n",
       "      <th>Outlet_Location_Type</th>\n",
       "      <th>Outlet_Type</th>\n",
       "      <th>Item_Outlet_Sales</th>\n",
       "      <th>kfold</th>\n",
       "    </tr>\n",
       "  </thead>\n",
       "  <tbody>\n",
       "    <tr>\n",
       "      <th>3</th>\n",
       "      <td>DRC36</td>\n",
       "      <td>NaN</td>\n",
       "      <td>Regular</td>\n",
       "      <td>0.044767</td>\n",
       "      <td>Soft Drinks</td>\n",
       "      <td>173.7054</td>\n",
       "      <td>OUT027</td>\n",
       "      <td>1985</td>\n",
       "      <td>Medium</td>\n",
       "      <td>Tier 3</td>\n",
       "      <td>Supermarket Type3</td>\n",
       "      <td>5778.4782</td>\n",
       "      <td>0</td>\n",
       "    </tr>\n",
       "    <tr>\n",
       "      <th>4647</th>\n",
       "      <td>DRC36</td>\n",
       "      <td>13.0</td>\n",
       "      <td>reg</td>\n",
       "      <td>0.044976</td>\n",
       "      <td>Soft Drinks</td>\n",
       "      <td>176.2054</td>\n",
       "      <td>OUT035</td>\n",
       "      <td>2004</td>\n",
       "      <td>Small</td>\n",
       "      <td>Tier 2</td>\n",
       "      <td>Supermarket Type1</td>\n",
       "      <td>1225.7378</td>\n",
       "      <td>2</td>\n",
       "    </tr>\n",
       "    <tr>\n",
       "      <th>5132</th>\n",
       "      <td>DRC36</td>\n",
       "      <td>13.0</td>\n",
       "      <td>Regular</td>\n",
       "      <td>0.000000</td>\n",
       "      <td>Soft Drinks</td>\n",
       "      <td>173.6054</td>\n",
       "      <td>OUT013</td>\n",
       "      <td>1987</td>\n",
       "      <td>High</td>\n",
       "      <td>Tier 3</td>\n",
       "      <td>Supermarket Type1</td>\n",
       "      <td>1751.0540</td>\n",
       "      <td>2</td>\n",
       "    </tr>\n",
       "    <tr>\n",
       "      <th>7062</th>\n",
       "      <td>DRC36</td>\n",
       "      <td>13.0</td>\n",
       "      <td>Regular</td>\n",
       "      <td>0.044985</td>\n",
       "      <td>Soft Drinks</td>\n",
       "      <td>175.0054</td>\n",
       "      <td>OUT046</td>\n",
       "      <td>1997</td>\n",
       "      <td>Small</td>\n",
       "      <td>Tier 1</td>\n",
       "      <td>Supermarket Type1</td>\n",
       "      <td>1926.1594</td>\n",
       "      <td>4</td>\n",
       "    </tr>\n",
       "    <tr>\n",
       "      <th>7164</th>\n",
       "      <td>DRC36</td>\n",
       "      <td>13.0</td>\n",
       "      <td>Regular</td>\n",
       "      <td>0.045239</td>\n",
       "      <td>Soft Drinks</td>\n",
       "      <td>174.1054</td>\n",
       "      <td>OUT017</td>\n",
       "      <td>2007</td>\n",
       "      <td>NaN</td>\n",
       "      <td>Tier 2</td>\n",
       "      <td>Supermarket Type1</td>\n",
       "      <td>4377.6350</td>\n",
       "      <td>4</td>\n",
       "    </tr>\n",
       "  </tbody>\n",
       "</table>\n",
       "</div>"
      ],
      "text/plain": [
       "     Item_Identifier  Item_Weight Item_Fat_Content  Item_Visibility  \\\n",
       "3              DRC36          NaN          Regular         0.044767   \n",
       "4647           DRC36         13.0              reg         0.044976   \n",
       "5132           DRC36         13.0          Regular         0.000000   \n",
       "7062           DRC36         13.0          Regular         0.044985   \n",
       "7164           DRC36         13.0          Regular         0.045239   \n",
       "\n",
       "        Item_Type  Item_MRP Outlet_Identifier  Outlet_Establishment_Year  \\\n",
       "3     Soft Drinks  173.7054            OUT027                       1985   \n",
       "4647  Soft Drinks  176.2054            OUT035                       2004   \n",
       "5132  Soft Drinks  173.6054            OUT013                       1987   \n",
       "7062  Soft Drinks  175.0054            OUT046                       1997   \n",
       "7164  Soft Drinks  174.1054            OUT017                       2007   \n",
       "\n",
       "     Outlet_Size Outlet_Location_Type        Outlet_Type  Item_Outlet_Sales  \\\n",
       "3         Medium               Tier 3  Supermarket Type3          5778.4782   \n",
       "4647       Small               Tier 2  Supermarket Type1          1225.7378   \n",
       "5132        High               Tier 3  Supermarket Type1          1751.0540   \n",
       "7062       Small               Tier 1  Supermarket Type1          1926.1594   \n",
       "7164         NaN               Tier 2  Supermarket Type1          4377.6350   \n",
       "\n",
       "      kfold  \n",
       "3         0  \n",
       "4647      2  \n",
       "5132      2  \n",
       "7062      4  \n",
       "7164      4  "
      ]
     },
     "execution_count": 705,
     "metadata": {},
     "output_type": "execute_result"
    }
   ],
   "source": [
    "df_train[df_train.Item_Identifier == \"DRC36\"]"
   ]
  },
  {
   "cell_type": "code",
   "execution_count": 706,
   "id": "a3fa49db",
   "metadata": {},
   "outputs": [
    {
     "data": {
      "text/plain": [
       "Outlet_Size\n",
       "Medium    2793\n",
       "Small     2388\n",
       "High       932\n",
       "Name: count, dtype: int64"
      ]
     },
     "execution_count": 706,
     "metadata": {},
     "output_type": "execute_result"
    }
   ],
   "source": [
    "df_train[\"Outlet_Size\"].value_counts()"
   ]
  },
  {
   "cell_type": "code",
   "execution_count": 707,
   "id": "db03dc30",
   "metadata": {},
   "outputs": [],
   "source": [
    "df_train[\"Item_Weight\"] = df_train[\"Item_Weight\"].fillna(0).astype(np.float64)\n",
    "df_test[\"Item_Weight\"] = df_test[\"Item_Weight\"].fillna(0).astype(np.float64)\n",
    "df_train[\"Outlet_Size\"] = df_train[\"Outlet_Size\"].fillna(\"Miss\").astype(str)\n",
    "df_test[\"Outlet_Size\"] = df_test[\"Outlet_Size\"].fillna(\"Miss\").astype(str)"
   ]
  },
  {
   "cell_type": "code",
   "execution_count": 708,
   "id": "2545fbec",
   "metadata": {},
   "outputs": [
    {
     "name": "stdout",
     "output_type": "stream",
     "text": [
      "<class 'pandas.core.frame.DataFrame'>\n",
      "RangeIndex: 8523 entries, 0 to 8522\n",
      "Data columns (total 13 columns):\n",
      " #   Column                     Non-Null Count  Dtype  \n",
      "---  ------                     --------------  -----  \n",
      " 0   Item_Identifier            8523 non-null   object \n",
      " 1   Item_Weight                8523 non-null   float64\n",
      " 2   Item_Fat_Content           8523 non-null   object \n",
      " 3   Item_Visibility            8523 non-null   float64\n",
      " 4   Item_Type                  8523 non-null   object \n",
      " 5   Item_MRP                   8523 non-null   float64\n",
      " 6   Outlet_Identifier          8523 non-null   object \n",
      " 7   Outlet_Establishment_Year  8523 non-null   int64  \n",
      " 8   Outlet_Size                8523 non-null   object \n",
      " 9   Outlet_Location_Type       8523 non-null   object \n",
      " 10  Outlet_Type                8523 non-null   object \n",
      " 11  Item_Outlet_Sales          8523 non-null   float64\n",
      " 12  kfold                      8523 non-null   int64  \n",
      "dtypes: float64(4), int64(2), object(7)\n",
      "memory usage: 865.7+ KB\n"
     ]
    }
   ],
   "source": [
    "df_train.info()"
   ]
  },
  {
   "cell_type": "markdown",
   "id": "4c458b27",
   "metadata": {},
   "source": [
    "## categorical columns"
   ]
  },
  {
   "cell_type": "code",
   "execution_count": 709,
   "id": "0e8085ed",
   "metadata": {},
   "outputs": [
    {
     "name": "stdout",
     "output_type": "stream",
     "text": [
      "Item_Fat_Content: 5\n",
      "Item_Type: 16\n",
      "Outlet_Size: 4\n",
      "Outlet_Location_Type: 3\n",
      "Outlet_Type: 4\n",
      "['Item_Fat_Content', 'Item_Type', 'Outlet_Size', 'Outlet_Location_Type', 'Outlet_Type']\n"
     ]
    }
   ],
   "source": [
    "cat_cols = []\n",
    "for col in feature_cols:\n",
    "    if df_train[col].dtype == \"object\":\n",
    "        print(f\"{col}: {df_train[col].nunique()}\")\n",
    "        if df_train[col].nunique() < 30:\n",
    "            cat_cols.append(col)\n",
    "print(cat_cols)"
   ]
  },
  {
   "cell_type": "code",
   "execution_count": 710,
   "id": "8f1499fa",
   "metadata": {},
   "outputs": [
    {
     "name": "stdout",
     "output_type": "stream",
     "text": [
      "Item_Weight: float64\n",
      "Item_Visibility: float64\n",
      "Item_MRP: float64\n",
      "Outlet_Establishment_Year: int64\n",
      "['Item_Weight', 'Item_Visibility', 'Item_MRP', 'Outlet_Establishment_Year']\n"
     ]
    }
   ],
   "source": [
    "num_cols = []\n",
    "for col in feature_cols:\n",
    "    if col not in cat_cols:\n",
    "        print(f\"{col}: {df_train[col].dtype}\")\n",
    "        num_cols.append(col)\n",
    "print(num_cols)"
   ]
  },
  {
   "cell_type": "code",
   "execution_count": 711,
   "id": "65451f97",
   "metadata": {},
   "outputs": [
    {
     "name": "stdout",
     "output_type": "stream",
     "text": [
      "cat_cols: 5\n",
      "num_cols: 4\n",
      "feature_cols: 9\n"
     ]
    }
   ],
   "source": [
    "print(f\"cat_cols: {len(cat_cols)}\")\n",
    "print(f\"num_cols: {len(num_cols)}\")\n",
    "print(f\"feature_cols: {len(feature_cols)}\")"
   ]
  },
  {
   "cell_type": "markdown",
   "id": "3dbae319",
   "metadata": {},
   "source": [
    "## Cat Encoder"
   ]
  },
  {
   "cell_type": "code",
   "execution_count": 712,
   "id": "62946e44",
   "metadata": {},
   "outputs": [
    {
     "name": "stdout",
     "output_type": "stream",
     "text": [
      "0 : Item_Fat_Content: 5\n",
      "1 : Item_Type: 16\n",
      "2 : Outlet_Size: 4\n",
      "3 : Outlet_Location_Type: 3\n",
      "4 : Outlet_Type: 4\n"
     ]
    }
   ],
   "source": [
    "cat_cols_fe = []\n",
    "cat_cols_remove = []\n",
    "for idx, col in enumerate(cat_cols):\n",
    "    print(f\"{idx} : {col}: {df_train[col].nunique()}\")\n"
   ]
  },
  {
   "cell_type": "code",
   "execution_count": 713,
   "id": "9c2d98a4",
   "metadata": {},
   "outputs": [
    {
     "name": "stdout",
     "output_type": "stream",
     "text": [
      "Item_Fat_Content\n",
      "Low Fat    5089\n",
      "Regular    2889\n",
      "LF          316\n",
      "reg         117\n",
      "low fat     112\n",
      "Name: count, dtype: int64\n",
      "---\n",
      "Item_Fat_Content\n",
      "Low Fat    3396\n",
      "Regular    1935\n",
      "LF          206\n",
      "reg          78\n",
      "low fat      66\n",
      "Name: count, dtype: int64\n",
      "---\n",
      "0\n",
      "---\n",
      "0\n"
     ]
    }
   ],
   "source": [
    "idx = 0\n",
    "print(df_train[cat_cols[idx]].value_counts())\n",
    "print(\"---\")\n",
    "print(df_test[cat_cols[idx]].value_counts())\n",
    "print(\"---\")\n",
    "print(df_train[cat_cols[idx]].isnull().sum())\n",
    "print(\"---\")\n",
    "print(df_test[cat_cols[idx]].isnull().sum())"
   ]
  },
  {
   "cell_type": "code",
   "execution_count": 714,
   "id": "95d206c4",
   "metadata": {},
   "outputs": [],
   "source": [
    "def Item_Fat_Content_fn(x):\n",
    "    if x in [\"Low Fat\", \"LF\", \"low fat\"]:\n",
    "        return 0\n",
    "    elif x in [\"reg\", \"Regular\"]:\n",
    "        return 1\n",
    "    else:\n",
    "        return 2\n",
    "\n",
    "\n",
    "df_train[\"Item_Fat_Content\"] = df_train[\"Item_Fat_Content\"].apply(Item_Fat_Content_fn)\n",
    "df_test[\"Item_Fat_Content\"] = df_test[\"Item_Fat_Content\"].apply(Item_Fat_Content_fn)\n",
    "cat_cols_fe.append(\"Item_Fat_Content\")"
   ]
  },
  {
   "cell_type": "code",
   "execution_count": 715,
   "id": "5dec667a",
   "metadata": {},
   "outputs": [
    {
     "name": "stdout",
     "output_type": "stream",
     "text": [
      "16\n",
      "---\n",
      "16\n",
      "---\n",
      "0\n",
      "---\n",
      "0\n"
     ]
    }
   ],
   "source": [
    "idx = 1\n",
    "# print(df_train[cat_cols[idx]].value_counts())\n",
    "print(df_train[cat_cols[idx]].nunique())\n",
    "print(\"---\")\n",
    "# print(df_test[cat_cols[idx]].value_counts())\n",
    "print(df_test[cat_cols[idx]].nunique())\n",
    "print(\"---\")\n",
    "print(df_train[cat_cols[idx]].isnull().sum())\n",
    "print(\"---\")\n",
    "print(df_test[cat_cols[idx]].isnull().sum())"
   ]
  },
  {
   "cell_type": "code",
   "execution_count": 716,
   "id": "d0cc41e3",
   "metadata": {},
   "outputs": [],
   "source": [
    "from feature_engine.encoding import OneHotEncoder\n",
    "\n",
    "ohe = OneHotEncoder()\n",
    "df_train_ohe = ohe.fit_transform(df_train[[cat_cols[idx]]])\n",
    "df_test_ohe = ohe.transform(df_test[[cat_cols[idx]]])\n",
    "\n",
    "df_train = pd.concat([df_train, df_train_ohe], axis=1).drop(cat_cols[idx], axis=1)\n",
    "df_test = pd.concat([df_test, df_test_ohe], axis=1).drop(cat_cols[idx], axis=1)\n",
    "cat_cols_remove.append(cat_cols[idx])\n",
    "cat_cols_fe.extend(df_train_ohe.columns.tolist())"
   ]
  },
  {
   "cell_type": "code",
   "execution_count": 717,
   "id": "79ed3f7d",
   "metadata": {},
   "outputs": [
    {
     "name": "stdout",
     "output_type": "stream",
     "text": [
      "Outlet_Size\n",
      "Medium    2793\n",
      "Miss      2410\n",
      "Small     2388\n",
      "High       932\n",
      "Name: count, dtype: int64\n",
      "---\n",
      "Outlet_Size\n",
      "Medium    1862\n",
      "Miss      1606\n",
      "Small     1592\n",
      "High       621\n",
      "Name: count, dtype: int64\n",
      "---\n",
      "0\n",
      "---\n",
      "0\n"
     ]
    }
   ],
   "source": [
    "idx = 2\n",
    "print(df_train[cat_cols[idx]].value_counts())\n",
    "# print(df_train[cat_cols[idx]].nunique())\n",
    "print(\"---\")\n",
    "print(df_test[cat_cols[idx]].value_counts())\n",
    "# print(df_test[cat_cols[idx]].nunique())\n",
    "print(\"---\")\n",
    "print(df_train[cat_cols[idx]].isnull().sum())\n",
    "print(\"---\")\n",
    "print(df_test[cat_cols[idx]].isnull().sum())"
   ]
  },
  {
   "cell_type": "code",
   "execution_count": 718,
   "id": "6f6ab513",
   "metadata": {},
   "outputs": [
    {
     "name": "stdout",
     "output_type": "stream",
     "text": [
      "['Item_Fat_Content', 'Item_Type_Frozen Foods', 'Item_Type_Health and Hygiene', 'Item_Type_Canned', 'Item_Type_Soft Drinks', 'Item_Type_Meat', 'Item_Type_Snack Foods', 'Item_Type_Baking Goods', 'Item_Type_Household', 'Item_Type_Dairy', 'Item_Type_Fruits and Vegetables', 'Item_Type_Seafood', 'Item_Type_Breakfast', 'Item_Type_Breads', 'Item_Type_Starchy Foods', 'Item_Type_Others', 'Item_Type_Hard Drinks', 'Outlet_Size']\n"
     ]
    }
   ],
   "source": [
    "def Outlet_Size_fn(x):\n",
    "    if x == \"Miss\":\n",
    "        return 0\n",
    "    elif x == \"Small\":\n",
    "        return 1\n",
    "    elif x == \"Medium\":\n",
    "        return 2\n",
    "    else:\n",
    "        return 3\n",
    "\n",
    "\n",
    "df_train[\"Outlet_Size\"] = df_train[\"Outlet_Size\"].apply(Outlet_Size_fn)\n",
    "df_test[\"Outlet_Size\"] = df_test[\"Outlet_Size\"].apply(Outlet_Size_fn)\n",
    "cat_cols_fe.append(\"Outlet_Size\")\n",
    "print(cat_cols_fe)"
   ]
  },
  {
   "cell_type": "code",
   "execution_count": 719,
   "id": "d4526eaa",
   "metadata": {},
   "outputs": [
    {
     "name": "stdout",
     "output_type": "stream",
     "text": [
      "Outlet_Location_Type\n",
      "Tier 3    3350\n",
      "Tier 2    2785\n",
      "Tier 1    2388\n",
      "Name: count, dtype: int64\n",
      "---\n",
      "Outlet_Location_Type\n",
      "Tier 3    2233\n",
      "Tier 2    1856\n",
      "Tier 1    1592\n",
      "Name: count, dtype: int64\n",
      "---\n",
      "0\n",
      "---\n",
      "0\n"
     ]
    }
   ],
   "source": [
    "idx = 3\n",
    "print(df_train[cat_cols[idx]].value_counts())\n",
    "# print(df_train[cat_cols[idx]].nunique())\n",
    "print(\"---\")\n",
    "print(df_test[cat_cols[idx]].value_counts())\n",
    "# print(df_test[cat_cols[idx]].nunique())\n",
    "print(\"---\")\n",
    "print(df_train[cat_cols[idx]].isnull().sum())\n",
    "print(\"---\")\n",
    "print(df_test[cat_cols[idx]].isnull().sum())"
   ]
  },
  {
   "cell_type": "code",
   "execution_count": 720,
   "id": "cc1f82c7",
   "metadata": {},
   "outputs": [
    {
     "name": "stdout",
     "output_type": "stream",
     "text": [
      "['Item_Fat_Content', 'Item_Type_Frozen Foods', 'Item_Type_Health and Hygiene', 'Item_Type_Canned', 'Item_Type_Soft Drinks', 'Item_Type_Meat', 'Item_Type_Snack Foods', 'Item_Type_Baking Goods', 'Item_Type_Household', 'Item_Type_Dairy', 'Item_Type_Fruits and Vegetables', 'Item_Type_Seafood', 'Item_Type_Breakfast', 'Item_Type_Breads', 'Item_Type_Starchy Foods', 'Item_Type_Others', 'Item_Type_Hard Drinks', 'Outlet_Size', 'Outlet_Location_Type']\n"
     ]
    }
   ],
   "source": [
    "def Outlet_Location_Type_fn(x):\n",
    "    if x == \"Tier 1\":\n",
    "        return 1\n",
    "    elif x == \"Tier 2\":\n",
    "        return 2\n",
    "    else:\n",
    "        return 3\n",
    "\n",
    "\n",
    "df_train[\"Outlet_Location_Type\"] = df_train[\"Outlet_Location_Type\"].apply(\n",
    "    Outlet_Location_Type_fn\n",
    ")\n",
    "df_test[\"Outlet_Location_Type\"] = df_test[\"Outlet_Location_Type\"].apply(\n",
    "    Outlet_Location_Type_fn\n",
    ")\n",
    "cat_cols_fe.append(\"Outlet_Location_Type\")\n",
    "print(cat_cols_fe)"
   ]
  },
  {
   "cell_type": "code",
   "execution_count": 721,
   "id": "6e6b6e2b",
   "metadata": {},
   "outputs": [
    {
     "name": "stdout",
     "output_type": "stream",
     "text": [
      "Outlet_Type\n",
      "Supermarket Type1    5577\n",
      "Grocery Store        1083\n",
      "Supermarket Type3     935\n",
      "Supermarket Type2     928\n",
      "Name: count, dtype: int64\n",
      "4\n",
      "---\n",
      "Outlet_Type\n",
      "Supermarket Type1    3717\n",
      "Grocery Store         722\n",
      "Supermarket Type3     624\n",
      "Supermarket Type2     618\n",
      "Name: count, dtype: int64\n",
      "4\n",
      "---\n",
      "0\n",
      "---\n",
      "0\n"
     ]
    }
   ],
   "source": [
    "idx = 4\n",
    "print(df_train[cat_cols[idx]].value_counts())\n",
    "print(df_train[cat_cols[idx]].nunique())\n",
    "print(\"---\")\n",
    "print(df_test[cat_cols[idx]].value_counts())\n",
    "print(df_test[cat_cols[idx]].nunique())\n",
    "print(\"---\")\n",
    "print(df_train[cat_cols[idx]].isnull().sum())\n",
    "print(\"---\")\n",
    "print(df_test[cat_cols[idx]].isnull().sum())"
   ]
  },
  {
   "cell_type": "code",
   "execution_count": 722,
   "id": "54f43751",
   "metadata": {},
   "outputs": [],
   "source": [
    "ohe4 = OneHotEncoder()\n",
    "df_train_ohe = ohe4.fit_transform(df_train[[cat_cols[idx]]])\n",
    "df_test_ohe = ohe4.transform(df_test[[cat_cols[idx]]])\n",
    "\n",
    "df_train = pd.concat([df_train, df_train_ohe], axis=1).drop(cat_cols[idx], axis=1)\n",
    "df_test = pd.concat([df_test, df_test_ohe], axis=1).drop(cat_cols[idx], axis=1)\n",
    "cat_cols_remove.append(cat_cols[idx])\n",
    "cat_cols_fe.extend(df_train_ohe.columns.tolist())"
   ]
  },
  {
   "cell_type": "code",
   "execution_count": 723,
   "id": "3235d088",
   "metadata": {},
   "outputs": [
    {
     "name": "stdout",
     "output_type": "stream",
     "text": [
      "['Item_Fat_Content', 'Item_Type_Frozen Foods', 'Item_Type_Health and Hygiene', 'Item_Type_Canned', 'Item_Type_Soft Drinks', 'Item_Type_Meat', 'Item_Type_Snack Foods', 'Item_Type_Baking Goods', 'Item_Type_Household', 'Item_Type_Dairy', 'Item_Type_Fruits and Vegetables', 'Item_Type_Seafood', 'Item_Type_Breakfast', 'Item_Type_Breads', 'Item_Type_Starchy Foods', 'Item_Type_Others', 'Item_Type_Hard Drinks', 'Outlet_Size', 'Outlet_Location_Type', 'Outlet_Type_Supermarket Type1', 'Outlet_Type_Supermarket Type3', 'Outlet_Type_Supermarket Type2', 'Outlet_Type_Grocery Store']\n",
      "['Item_Type', 'Outlet_Type']\n"
     ]
    }
   ],
   "source": [
    "print(cat_cols_fe)\n",
    "print(cat_cols_remove)"
   ]
  },
  {
   "cell_type": "code",
   "execution_count": 724,
   "id": "246196a4",
   "metadata": {},
   "outputs": [
    {
     "name": "stdout",
     "output_type": "stream",
     "text": [
      "<class 'pandas.core.frame.DataFrame'>\n",
      "RangeIndex: 8523 entries, 0 to 8522\n",
      "Data columns (total 31 columns):\n",
      " #   Column                           Non-Null Count  Dtype  \n",
      "---  ------                           --------------  -----  \n",
      " 0   Item_Identifier                  8523 non-null   object \n",
      " 1   Item_Weight                      8523 non-null   float64\n",
      " 2   Item_Fat_Content                 8523 non-null   int64  \n",
      " 3   Item_Visibility                  8523 non-null   float64\n",
      " 4   Item_MRP                         8523 non-null   float64\n",
      " 5   Outlet_Identifier                8523 non-null   object \n",
      " 6   Outlet_Establishment_Year        8523 non-null   int64  \n",
      " 7   Outlet_Size                      8523 non-null   int64  \n",
      " 8   Outlet_Location_Type             8523 non-null   int64  \n",
      " 9   Item_Outlet_Sales                8523 non-null   float64\n",
      " 10  kfold                            8523 non-null   int64  \n",
      " 11  Item_Type_Frozen Foods           8523 non-null   int64  \n",
      " 12  Item_Type_Health and Hygiene     8523 non-null   int64  \n",
      " 13  Item_Type_Canned                 8523 non-null   int64  \n",
      " 14  Item_Type_Soft Drinks            8523 non-null   int64  \n",
      " 15  Item_Type_Meat                   8523 non-null   int64  \n",
      " 16  Item_Type_Snack Foods            8523 non-null   int64  \n",
      " 17  Item_Type_Baking Goods           8523 non-null   int64  \n",
      " 18  Item_Type_Household              8523 non-null   int64  \n",
      " 19  Item_Type_Dairy                  8523 non-null   int64  \n",
      " 20  Item_Type_Fruits and Vegetables  8523 non-null   int64  \n",
      " 21  Item_Type_Seafood                8523 non-null   int64  \n",
      " 22  Item_Type_Breakfast              8523 non-null   int64  \n",
      " 23  Item_Type_Breads                 8523 non-null   int64  \n",
      " 24  Item_Type_Starchy Foods          8523 non-null   int64  \n",
      " 25  Item_Type_Others                 8523 non-null   int64  \n",
      " 26  Item_Type_Hard Drinks            8523 non-null   int64  \n",
      " 27  Outlet_Type_Supermarket Type1    8523 non-null   int64  \n",
      " 28  Outlet_Type_Supermarket Type3    8523 non-null   int64  \n",
      " 29  Outlet_Type_Supermarket Type2    8523 non-null   int64  \n",
      " 30  Outlet_Type_Grocery Store        8523 non-null   int64  \n",
      "dtypes: float64(4), int64(25), object(2)\n",
      "memory usage: 2.0+ MB\n"
     ]
    }
   ],
   "source": [
    "df_train.info()"
   ]
  },
  {
   "cell_type": "markdown",
   "id": "1b4ee61f",
   "metadata": {},
   "source": [
    "## Numerical Columns"
   ]
  },
  {
   "cell_type": "code",
   "execution_count": 725,
   "id": "dcdeb216",
   "metadata": {},
   "outputs": [
    {
     "name": "stdout",
     "output_type": "stream",
     "text": [
      "Item_Weight: float64\n",
      "Item_Visibility: float64\n",
      "Item_MRP: float64\n",
      "Outlet_Establishment_Year: int64\n",
      "['Item_Weight', 'Item_Visibility', 'Item_MRP', 'Outlet_Establishment_Year']\n"
     ]
    }
   ],
   "source": [
    "num_cols_fe = []\n",
    "for col in num_cols:\n",
    "    if col not in cat_cols_remove:\n",
    "        print(f\"{col}: {df_train[col].dtype}\")\n",
    "        num_cols_fe.append(col)\n",
    "print(num_cols_fe)"
   ]
  },
  {
   "cell_type": "code",
   "execution_count": 726,
   "id": "dea35501",
   "metadata": {},
   "outputs": [
    {
     "data": {
      "text/plain": [
       "{1985: 0.1716531737651062,\n",
       " 1987: 0.10935116742930893,\n",
       " 1997: 0.1091165082717353,\n",
       " 1998: 0.06511791622668074,\n",
       " 1999: 0.1091165082717353,\n",
       " 2002: 0.10899917869294849,\n",
       " 2004: 0.1091165082717353,\n",
       " 2007: 0.10864718995658805,\n",
       " 2009: 0.10888184911416168}"
      ]
     },
     "execution_count": 726,
     "metadata": {},
     "output_type": "execute_result"
    }
   ],
   "source": [
    "df_train[\"Outlet_Establishment_Year\"].value_counts(\n",
    "    normalize=True\n",
    ").sort_index().to_dict()"
   ]
  },
  {
   "cell_type": "code",
   "execution_count": 727,
   "id": "e8dd0db5",
   "metadata": {},
   "outputs": [
    {
     "data": {
      "text/plain": [
       "{1985: 0.17180073930646014,\n",
       " 1987: 0.10931174089068826,\n",
       " 1997: 0.10913571554303819,\n",
       " 1998: 0.06512937863052279,\n",
       " 1999: 0.10913571554303819,\n",
       " 2002: 0.10895969019538813,\n",
       " 2004: 0.10913571554303819,\n",
       " 2007: 0.10860763950008802,\n",
       " 2009: 0.10878366484773808}"
      ]
     },
     "execution_count": 727,
     "metadata": {},
     "output_type": "execute_result"
    }
   ],
   "source": [
    "df_test[\"Outlet_Establishment_Year\"].value_counts(normalize=True).sort_index().to_dict()"
   ]
  },
  {
   "cell_type": "code",
   "execution_count": 728,
   "id": "5457b34e",
   "metadata": {},
   "outputs": [
    {
     "name": "stdout",
     "output_type": "stream",
     "text": [
      "['Item_Weight', 'Item_Visibility', 'Item_MRP', 'Outlet_Establishment_Year_ordinal', 'Outlet_Establishment_Year_freq']\n"
     ]
    }
   ],
   "source": [
    "freq_dict = (\n",
    "    df_train[\"Outlet_Establishment_Year\"]\n",
    "    .value_counts(normalize=True)\n",
    "    .sort_index()\n",
    "    .to_dict()\n",
    ")\n",
    "ordinal_dict = {\n",
    "    1985: 1,\n",
    "    1987: 2,\n",
    "    1997: 3,\n",
    "    1998: 4,\n",
    "    1999: 5,\n",
    "    2002: 6,\n",
    "    2004: 7,\n",
    "    2007: 8,\n",
    "    2009: 9,\n",
    "}\n",
    "df_train[\"Outlet_Establishment_Year_ordinal\"] = df_train[\n",
    "    \"Outlet_Establishment_Year\"\n",
    "].map(ordinal_dict)\n",
    "df_train[\"Outlet_Establishment_Year_freq\"] = df_train[\"Outlet_Establishment_Year\"].map(\n",
    "    freq_dict\n",
    ")\n",
    "df_test[\"Outlet_Establishment_Year_ordinal\"] = df_test[\"Outlet_Establishment_Year\"].map(\n",
    "    ordinal_dict\n",
    ")\n",
    "df_test[\"Outlet_Establishment_Year_freq\"] = df_test[\"Outlet_Establishment_Year\"].map(\n",
    "    freq_dict\n",
    ")\n",
    "df_train = df_train.drop(\"Outlet_Establishment_Year\", axis=1)\n",
    "df_test = df_test.drop(\"Outlet_Establishment_Year\", axis=1)\n",
    "num_cols_fe.remove(\"Outlet_Establishment_Year\")\n",
    "num_cols_fe.append(\"Outlet_Establishment_Year_ordinal\")\n",
    "num_cols_fe.append(\"Outlet_Establishment_Year_freq\")\n",
    "print(num_cols_fe)\n"
   ]
  },
  {
   "cell_type": "code",
   "execution_count": 729,
   "id": "864bbc44",
   "metadata": {},
   "outputs": [
    {
     "data": {
      "image/png": "[encoded data removed]",
      "text/plain": [
       "<Figure size 2000x500 with 1 Axes>"
      ]
     },
     "metadata": {},
     "output_type": "display_data"
    }
   ],
   "source": [
    "# Plot the histogram\n",
    "df_train[\"Item_MRP\"].plot(kind=\"hist\", bins=100, figsize=(20, 5))\n",
    "\n",
    "# Get min and max for the range\n",
    "min_val = df_train[\"Item_MRP\"].min()\n",
    "max_val = df_train[\"Item_MRP\"].max()\n",
    "\n",
    "# Create 20 evenly spaced tick values\n",
    "tick_values = np.linspace(min_val, max_val, 20)\n",
    "\n",
    "# Set the ticks with appropriate size\n",
    "plt.xticks(tick_values, fontsize=10)\n",
    "\n",
    "# Show the plot\n",
    "plt.show()"
   ]
  },
  {
   "cell_type": "code",
   "execution_count": 730,
   "id": "4ce5abb7",
   "metadata": {},
   "outputs": [
    {
     "name": "stdout",
     "output_type": "stream",
     "text": [
      "['Item_Weight', 'Item_Visibility', 'Item_MRP', 'Outlet_Establishment_Year_ordinal', 'Outlet_Establishment_Year_freq', 'Item_MRP_segment']\n"
     ]
    }
   ],
   "source": [
    "def Item_MRP_fn(x):\n",
    "    if x > 0 and x < 70:\n",
    "        return 1\n",
    "    elif x >= 70 and x < 140:\n",
    "        return 2\n",
    "    elif x >= 140 and x < 200:\n",
    "        return 3\n",
    "    else:\n",
    "        return 4\n",
    "\n",
    "\n",
    "df_train[\"Item_MRP_segment\"] = df_train[\"Item_MRP\"].apply(Item_MRP_fn)\n",
    "df_test[\"Item_MRP_segment\"] = df_test[\"Item_MRP\"].apply(Item_MRP_fn)\n",
    "num_cols_fe.append(\"Item_MRP_segment\")\n",
    "print(num_cols_fe)"
   ]
  },
  {
   "cell_type": "code",
   "execution_count": 731,
   "id": "1f4e87b3",
   "metadata": {},
   "outputs": [
    {
     "data": {
      "image/png": "[encoded data removed]",
      "text/plain": [
       "<Figure size 2000x500 with 1 Axes>"
      ]
     },
     "metadata": {},
     "output_type": "display_data"
    }
   ],
   "source": [
    "# 'Item_Weight', 'Item_Visibility'\n",
    "\n",
    "# Plot the histogram\n",
    "df_train[\"Item_Visibility\"].plot(kind=\"hist\", bins=100, figsize=(20, 5))\n",
    "\n",
    "# Get min and max for the range\n",
    "min_val = df_train[\"Item_Visibility\"].min()\n",
    "max_val = df_train[\"Item_Visibility\"].max()\n",
    "\n",
    "# Create 20 evenly spaced tick values\n",
    "tick_values = np.linspace(min_val, max_val, 20)\n",
    "\n",
    "# Set the ticks with appropriate size\n",
    "plt.xticks(tick_values, fontsize=10)\n",
    "\n",
    "# Show the plot\n",
    "plt.show()"
   ]
  },
  {
   "cell_type": "code",
   "execution_count": 732,
   "id": "33e275c4",
   "metadata": {},
   "outputs": [
    {
     "data": {
      "image/png": "[encoded data removed]",
      "text/plain": [
       "<Figure size 2000x500 with 1 Axes>"
      ]
     },
     "metadata": {},
     "output_type": "display_data"
    }
   ],
   "source": [
    "# 'Item_Weight', 'Item_Visibility'\n",
    "\n",
    "# Plot the histogram\n",
    "df_train[\"Item_Weight\"].plot(kind=\"hist\", bins=100, figsize=(20, 5))\n",
    "\n",
    "# Get min and max for the range\n",
    "min_val = df_train[\"Item_Weight\"].min()\n",
    "max_val = df_train[\"Item_Weight\"].max()\n",
    "\n",
    "# Create 20 evenly spaced tick values\n",
    "tick_values = np.linspace(min_val, max_val, 20)\n",
    "\n",
    "# Set the ticks with appropriate size\n",
    "plt.xticks(tick_values, fontsize=10)\n",
    "\n",
    "# Show the plot\n",
    "plt.show()"
   ]
  },
  {
   "cell_type": "code",
   "execution_count": 733,
   "id": "799ed293",
   "metadata": {},
   "outputs": [
    {
     "data": {
      "text/plain": [
       "((8523, 33), (5681, 31))"
      ]
     },
     "execution_count": 733,
     "metadata": {},
     "output_type": "execute_result"
    }
   ],
   "source": [
    "df_train.shape, df_test.shape"
   ]
  },
  {
   "cell_type": "code",
   "execution_count": 734,
   "id": "47a5b7db",
   "metadata": {},
   "outputs": [
    {
     "name": "stdout",
     "output_type": "stream",
     "text": [
      "['Item_Identifier', 'Item_Weight', 'Item_Fat_Content', 'Item_Visibility', 'Item_MRP', 'Outlet_Identifier', 'Outlet_Size', 'Outlet_Location_Type', 'Item_Outlet_Sales', 'kfold', 'Item_Type_Frozen Foods', 'Item_Type_Health and Hygiene', 'Item_Type_Canned', 'Item_Type_Soft Drinks', 'Item_Type_Meat', 'Item_Type_Snack Foods', 'Item_Type_Baking Goods', 'Item_Type_Household', 'Item_Type_Dairy', 'Item_Type_Fruits and Vegetables', 'Item_Type_Seafood', 'Item_Type_Breakfast', 'Item_Type_Breads', 'Item_Type_Starchy Foods', 'Item_Type_Others', 'Item_Type_Hard Drinks', 'Outlet_Type_Supermarket Type1', 'Outlet_Type_Supermarket Type3', 'Outlet_Type_Supermarket Type2', 'Outlet_Type_Grocery Store', 'Outlet_Establishment_Year_ordinal', 'Outlet_Establishment_Year_freq', 'Item_MRP_segment']\n",
      "---\n",
      "['Item_Identifier', 'Item_Weight', 'Item_Fat_Content', 'Item_Visibility', 'Item_MRP', 'Outlet_Identifier', 'Outlet_Size', 'Outlet_Location_Type', 'Item_Type_Frozen Foods', 'Item_Type_Health and Hygiene', 'Item_Type_Canned', 'Item_Type_Soft Drinks', 'Item_Type_Meat', 'Item_Type_Snack Foods', 'Item_Type_Baking Goods', 'Item_Type_Household', 'Item_Type_Dairy', 'Item_Type_Fruits and Vegetables', 'Item_Type_Seafood', 'Item_Type_Breakfast', 'Item_Type_Breads', 'Item_Type_Starchy Foods', 'Item_Type_Others', 'Item_Type_Hard Drinks', 'Outlet_Type_Supermarket Type1', 'Outlet_Type_Supermarket Type3', 'Outlet_Type_Supermarket Type2', 'Outlet_Type_Grocery Store', 'Outlet_Establishment_Year_ordinal', 'Outlet_Establishment_Year_freq', 'Item_MRP_segment']\n"
     ]
    }
   ],
   "source": [
    "print(df_train.columns.tolist())\n",
    "print(\"---\")\n",
    "print(df_test.columns.tolist())"
   ]
  },
  {
   "cell_type": "code",
   "execution_count": 735,
   "id": "c6426227",
   "metadata": {},
   "outputs": [
    {
     "name": "stdout",
     "output_type": "stream",
     "text": [
      "{'kfold', 'Item_Outlet_Sales'}\n"
     ]
    }
   ],
   "source": [
    "print(set(df_train.columns.tolist()) - set(df_test.columns.tolist()))"
   ]
  },
  {
   "cell_type": "code",
   "execution_count": 737,
   "id": "bf85faa3",
   "metadata": {},
   "outputs": [
    {
     "name": "stdout",
     "output_type": "stream",
     "text": [
      "<class 'pandas.core.frame.DataFrame'>\n",
      "RangeIndex: 8523 entries, 0 to 8522\n",
      "Data columns (total 33 columns):\n",
      " #   Column                             Non-Null Count  Dtype  \n",
      "---  ------                             --------------  -----  \n",
      " 0   Item_Identifier                    8523 non-null   object \n",
      " 1   Item_Weight                        8523 non-null   float64\n",
      " 2   Item_Fat_Content                   8523 non-null   int64  \n",
      " 3   Item_Visibility                    8523 non-null   float64\n",
      " 4   Item_MRP                           8523 non-null   float64\n",
      " 5   Outlet_Identifier                  8523 non-null   object \n",
      " 6   Outlet_Size                        8523 non-null   int64  \n",
      " 7   Outlet_Location_Type               8523 non-null   int64  \n",
      " 8   Item_Outlet_Sales                  8523 non-null   float64\n",
      " 9   kfold                              8523 non-null   int64  \n",
      " 10  Item_Type_Frozen Foods             8523 non-null   int64  \n",
      " 11  Item_Type_Health and Hygiene       8523 non-null   int64  \n",
      " 12  Item_Type_Canned                   8523 non-null   int64  \n",
      " 13  Item_Type_Soft Drinks              8523 non-null   int64  \n",
      " 14  Item_Type_Meat                     8523 non-null   int64  \n",
      " 15  Item_Type_Snack Foods              8523 non-null   int64  \n",
      " 16  Item_Type_Baking Goods             8523 non-null   int64  \n",
      " 17  Item_Type_Household                8523 non-null   int64  \n",
      " 18  Item_Type_Dairy                    8523 non-null   int64  \n",
      " 19  Item_Type_Fruits and Vegetables    8523 non-null   int64  \n",
      " 20  Item_Type_Seafood                  8523 non-null   int64  \n",
      " 21  Item_Type_Breakfast                8523 non-null   int64  \n",
      " 22  Item_Type_Breads                   8523 non-null   int64  \n",
      " 23  Item_Type_Starchy Foods            8523 non-null   int64  \n",
      " 24  Item_Type_Others                   8523 non-null   int64  \n",
      " 25  Item_Type_Hard Drinks              8523 non-null   int64  \n",
      " 26  Outlet_Type_Supermarket Type1      8523 non-null   int64  \n",
      " 27  Outlet_Type_Supermarket Type3      8523 non-null   int64  \n",
      " 28  Outlet_Type_Supermarket Type2      8523 non-null   int64  \n",
      " 29  Outlet_Type_Grocery Store          8523 non-null   int64  \n",
      " 30  Outlet_Establishment_Year_ordinal  8523 non-null   int64  \n",
      " 31  Outlet_Establishment_Year_freq     8523 non-null   float64\n",
      " 32  Item_MRP_segment                   8523 non-null   int64  \n",
      "dtypes: float64(5), int64(26), object(2)\n",
      "memory usage: 2.1+ MB\n"
     ]
    }
   ],
   "source": [
    "df_train.info()"
   ]
  },
  {
   "cell_type": "code",
   "execution_count": null,
   "id": "bfa029d1",
   "metadata": {},
   "outputs": [],
   "source": []
  },
  {
   "cell_type": "code",
   "execution_count": 736,
   "id": "b4578130",
   "metadata": {},
   "outputs": [],
   "source": [
    "# save the processed data\n",
    "output_dir = os.path.join(settings.DATA_DIR, \"fe\", \"00\")\n",
    "os.makedirs(output_dir, exist_ok=True)\n",
    "df_train.to_csv(os.path.join(output_dir, \"train_folds.csv\"), index=False)\n",
    "df_test.to_csv(os.path.join(output_dir, \"test.csv\"), index=False)\n",
    "df_ss.to_csv(os.path.join(output_dir, \"ss.csv\"), index=False)"
   ]
  }
 ],
 "metadata": {
  "kernelspec": {
   "display_name": ".venv",
   "language": "python",
   "name": "python3"
  },
  "language_info": {
   "codemirror_mode": {
    "name": "ipython",
    "version": 3
   },
   "file_extension": ".py",
   "mimetype": "text/x-python",
   "name": "python",
   "nbconvert_exporter": "python",
   "pygments_lexer": "ipython3",
   "version": "3.12.5"
  }
 },
 "nbformat": 4,
 "nbformat_minor": 5
}
